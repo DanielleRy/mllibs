{
 "cells": [
  {
   "cell_type": "code",
   "execution_count": 1,
   "id": "28884ef6",
   "metadata": {
    "execution": {
     "iopub.execute_input": "2023-05-31T14:44:53.407249Z",
     "iopub.status.busy": "2023-05-31T14:44:53.406695Z",
     "iopub.status.idle": "2023-05-31T14:45:07.921298Z",
     "shell.execute_reply": "2023-05-31T14:45:07.920036Z"
    },
    "papermill": {
     "duration": 14.534129,
     "end_time": "2023-05-31T14:45:07.924238",
     "exception": false,
     "start_time": "2023-05-31T14:44:53.390109",
     "status": "completed"
    },
    "tags": []
   },
   "outputs": [
    {
     "name": "stdout",
     "output_type": "stream",
     "text": [
      "Processing /kaggle/input/mllibs/mllibs-0.1.0-py3-none-any.whl\r\n",
      "Installing collected packages: mllibs\r\n",
      "Successfully installed mllibs-0.1.0\r\n",
      "\u001b[33mWARNING: Running pip as the 'root' user can result in broken permissions and conflicting behaviour with the system package manager. It is recommended to use a virtual environment instead: https://pip.pypa.io/warnings/venv\u001b[0m\u001b[33m\r\n",
      "\u001b[0m"
     ]
    }
   ],
   "source": [
    "!pip install /kaggle/input/mllibs/mllibs-0.1.0-py3-none-any.whl --force-reinstall "
   ]
  },
  {
   "cell_type": "markdown",
   "id": "229edbfe",
   "metadata": {
    "papermill": {
     "duration": 0.011805,
     "end_time": "2023-05-31T14:45:07.948693",
     "exception": false,
     "start_time": "2023-05-31T14:45:07.936888",
     "status": "completed"
    },
    "tags": []
   },
   "source": [
    "![](https://i.imgur.com/IPboSfw.jpg)\n",
    "\n",
    "#### <b><span style='color:#CAE68D'>TESTED VERSION</span></b>\n",
    "\n",
    "**0.1.0**\n",
    "\n",
    "## <b><span style='color:#B6DA32'>1 | BACKGROUND</span></b>\n",
    "\n",
    "<div style=\"color:white;border-radius:8px;background-color:#323232;font-size:100%\">\n",
    "<p style=\"padding: 10px;color:#B6DA32;\"><b><span style='color:#B6DA32; font-weight:bold'> 1.1 | TEXT NORMALISATION</span></b></p>\n",
    "</div>\n",
    "\n",
    "- <code>Text normalization</code> is the process of converting text into a standard format or structure\n",
    "- This involves converting text to its base or root form, removing punctuation and special characters, and correcting spelling and grammar errors\n",
    "- The goal of text normalization is to make text easier to process and analyze by reducing variations in spelling, syntax, and vocabulary\n",
    "- Text normalization is an important step in natural language processing (NLP) and machine learning applications that rely on text data"
   ]
  },
  {
   "cell_type": "markdown",
   "id": "cdafd65b",
   "metadata": {
    "papermill": {
     "duration": 0.011905,
     "end_time": "2023-05-31T14:45:07.972762",
     "exception": false,
     "start_time": "2023-05-31T14:45:07.960857",
     "status": "completed"
    },
    "tags": []
   },
   "source": [
    "<div style=\"color:white;border-radius:8px;background-color:#323232;font-size:100%\">\n",
    "<p style=\"padding: 10px;color:white;\"><b><span style='color:#B6DA32; font-weight:bold'> 1.2 | MACHINE LEARNING PROJECT</span></b></p>\n",
    "</div>\n",
    "\n",
    "\n",
    "The steps in a typical machine learning project are:\n",
    "\n",
    "- `Problem Definition`: Defining the problem you want to solve and the goals you want to achieve\n",
    "- `Data Collection`: Collecting relevant data from various sources\n",
    "- `Data Preprocessing`: Cleaning, transforming, and preparing the data for analysis\n",
    "- `Feature Engineering`: Selecting and creating relevant features that will be used to train the model\n",
    "- `Model Selection`: Choosing the appropriate machine learning algorithm that best suits the problem.\n",
    "- `Model Training`: Training the model on the training dataset\n",
    "- `Model Evaluation`: Evaluating the performance of the model on a validation dataset.\n",
    "- `Hyperparameter Tuning`: Adjusting the hyperparameters of the model to improve its performance\n",
    "- `Model Deployment`: Deploying the model in a production environment\n",
    "- `Monitoring and Maintenance`: Monitoring the model's performance and maintaining it over time to ensure it continues to deliver accurate results"
   ]
  },
  {
   "cell_type": "markdown",
   "id": "68f15372",
   "metadata": {
    "papermill": {
     "duration": 0.013024,
     "end_time": "2023-05-31T14:45:07.998196",
     "exception": false,
     "start_time": "2023-05-31T14:45:07.985172",
     "status": "completed"
    },
    "tags": []
   },
   "source": [
    "<div style=\"color:white;border-radius:8px;background-color:#323232;font-size:100%\">\n",
    "<p style=\"padding: 10px;color:white;\"><b><span style='color:#B6DA32; font-weight:bold'> 1.3 | MLLIBS MODULE\n",
    "</span></b></p>\n",
    "</div>\n",
    "\n",
    "#### <b><span style='color:#CAE68D'>WHAT IS MLLIBS?</span></b>\n",
    "\n",
    "- **mllibs** is a Machine Learning (ML) library which utilises natural language processing (NLP)\n",
    "- Development of such helper modules are motivated by the fact that everyones understanding of coding & subject matter (ML in this case) may be different \n",
    "- As a result, the module attempts to simplify these two processes for a user using automation\n",
    "- How is this achieved? Often we see people create **functions** and **classes** to simplify the process of achieving something (which is good practice)\n",
    "- Likewise, **NLP interpreters** follow this trend as well, except, in this case our only inputs for activating certain code is **natural language** inputs made by the user\n",
    "- Using python, we can interpret **natural language** in the form of **string** type data, using **natural langauge interpreters**\n",
    "\n",
    "#### <b><span style='color:#CAE68D'>INTERPRETING USER REQUESTS</span></b>\n",
    "\n",
    "- The **interpreter class** `nlpi` is the class which **interprets** the user input,\n",
    "- The interpreter is divided into three components `nlpi`, `snlpi` & `mnlpi` \n",
    "\n",
    "The core of the interpreter is `nlpi`\n",
    "- Interpret the user **text** & understand which parts of the **text** is relevant to the problem\n",
    "- The interpreter must also understand which **module task** to call, so the user request can be carried out\n",
    "- The interpreter must collect all relevant data that is required for the **module task** to be carried out\n",
    "\n",
    "Depending on the user input, either `snlpi` or `mlpi`will be activated:\n",
    "- `snlpi` is the class which is activated upon receiving a **single use request**\n",
    "- `mlpi` is activated upon receiving a user input with **multiple requests**\n",
    "\n",
    "#### <b><span style='color:#CAE68D'>OTHER EXAMPLE NOTEBOOKS</span></b>\n",
    "\n",
    "- **[Sample EDA notebook](https://www.kaggle.com/code/shtrausslearning/mllibs-sample-eda-notebook)** (exploratory data analysis options)\n",
    "- **[Encode text](https://www.kaggle.com/code/shtrausslearning/mllibs-encode-text)** (change text data into numerical representation)"
   ]
  },
  {
   "cell_type": "markdown",
   "id": "cd6dc39c",
   "metadata": {
    "papermill": {
     "duration": 0.011876,
     "end_time": "2023-05-31T14:45:08.022141",
     "exception": false,
     "start_time": "2023-05-31T14:45:08.010265",
     "status": "completed"
    },
    "tags": []
   },
   "source": [
    "## <b><span style='color:#B6DA32'>2 | INTERPRETER SETUP</span></b>\n",
    "\n",
    "<div style=\"color:white;border-radius:8px;background-color:#323232;font-size:100%\">\n",
    "<p style=\"padding: 10px;color:white;\"><b><span style='color:#B6DA32; font-weight:bold'> 2.1 | MANUAL MODULE IMPORT\n",
    "</span></b></p>\n",
    "</div>\n",
    "\n",
    "- In order to assemble the interpreter we need to do the following things , shown below.\n",
    "- Such an approach is useful when you want to test your own modules\n",
    "- Modules are loaded using the `nlpm` class and its method `load`, which requires a list of additional module which we want to group together. Once we have done that, we use the `train` method, which creates all relevant models that will be used to create decisions in the interpreter"
   ]
  },
  {
   "cell_type": "code",
   "execution_count": 2,
   "id": "07964cac",
   "metadata": {
    "_kg_hide-input": true,
    "execution": {
     "iopub.execute_input": "2023-05-31T14:45:08.048582Z",
     "iopub.status.busy": "2023-05-31T14:45:08.048151Z",
     "iopub.status.idle": "2023-05-31T14:45:16.251123Z",
     "shell.execute_reply": "2023-05-31T14:45:16.249535Z"
    },
    "papermill": {
     "duration": 8.21968,
     "end_time": "2023-05-31T14:45:16.253825",
     "exception": false,
     "start_time": "2023-05-31T14:45:08.034145",
     "status": "completed"
    },
    "tags": []
   },
   "outputs": [
    {
     "name": "stdout",
     "output_type": "stream",
     "text": [
      "[nltk_data] Downloading package wordnet to /usr/share/nltk_data...\n",
      "[nltk_data]   Package wordnet is already up-to-date!\n",
      "loading modules ...\n",
      "making module summary labels...\n",
      "done ...\n",
      "eda LogisticRegression() accuracy 1.0\n",
      "eda_colplot LogisticRegression() accuracy 1.0\n",
      "eda_plot LogisticRegression() accuracy 1.0\n",
      "loader LogisticRegression() accuracy 1.0\n",
      "make_folds LogisticRegression() accuracy 1.0\n",
      "nlp_encoder LogisticRegression() accuracy 1.0\n",
      "pd_df LogisticRegression() accuracy 1.0\n",
      "ms LogisticRegression() accuracy 1.0\n",
      "models trained...\n"
     ]
    }
   ],
   "source": [
    "'''\n",
    "\n",
    "Slightly longer way \n",
    "\n",
    "'''\n",
    "# which allows us to test new modules inside notebook\n",
    "\n",
    "from mllibs.nlpm import nlpm\n",
    "from mllibs.nlpi import nlpi\n",
    "from mllibs.mloader import loader,configure_loader\n",
    "from mllibs.mseda import simple_eda,configure_eda\n",
    "from mllibs.meda_splot import eda_plot, configure_edaplt\n",
    "from mllibs.meda_scplot import eda_colplot, configure_colplot\n",
    "from mllibs.mpd_df import dataframe_oper, configure_pda\n",
    "from mllibs.mencoder import encoder, configure_nlpencoder\n",
    "from mllibs.mdsplit import make_fold,configure_makefold\n",
    "\n",
    "collection = nlpm()\n",
    "collection.load([loader(configure_loader),        # load data\n",
    "                 simple_eda(configure_eda),       # pandas dataframe information\n",
    "                 eda_plot(configure_edaplt),      # standard visuals\n",
    "                 eda_colplot(configure_colplot),  # column based visuals\n",
    "                 dataframe_oper(configure_pda),   # pandas dataframe operations\n",
    "                 encoder(configure_nlpencoder),\n",
    "                 make_fold(configure_makefold)\n",
    "                ])\n",
    "\n",
    "collection.train()\n",
    "\n",
    "interpreter = nlpi(collection)"
   ]
  },
  {
   "cell_type": "markdown",
   "id": "4cc377bd",
   "metadata": {
    "papermill": {
     "duration": 0.012723,
     "end_time": "2023-05-31T14:45:16.279987",
     "exception": false,
     "start_time": "2023-05-31T14:45:16.267264",
     "status": "completed"
    },
    "tags": []
   },
   "source": [
    "<div style=\"color:white;border-radius:8px;background-color:#323232;font-size:100%\">\n",
    "<p style=\"padding: 10px;color:white;\"><b><span style='color:#B6DA32; font-weight:bold'> 2.2 | AUTOMATIC MODULE IMPORT\n",
    "</span></b></p>\n",
    "</div>\n",
    "\n",
    "- To simplify the above steps, we can simply utilise <code>interface</code> class\n",
    "- By default, this imports all available modules in mllibs"
   ]
  },
  {
   "cell_type": "code",
   "execution_count": 3,
   "id": "f6cac08c",
   "metadata": {
    "execution": {
     "iopub.execute_input": "2023-05-31T14:45:16.307232Z",
     "iopub.status.busy": "2023-05-31T14:45:16.306570Z",
     "iopub.status.idle": "2023-05-31T14:45:27.859362Z",
     "shell.execute_reply": "2023-05-31T14:45:27.858139Z"
    },
    "papermill": {
     "duration": 11.57102,
     "end_time": "2023-05-31T14:45:27.863586",
     "exception": false,
     "start_time": "2023-05-31T14:45:16.292566",
     "status": "completed"
    },
    "tags": []
   },
   "outputs": [
    {
     "name": "stdout",
     "output_type": "stream",
     "text": [
      "loading modules ...\n",
      "making module summary labels...\n",
      "done ...\n",
      "eda LogisticRegression() accuracy 1.0\n",
      "eda_colplot LogisticRegression() accuracy 1.0\n",
      "eda_plot LogisticRegression() accuracy 1.0\n",
      "loader LogisticRegression() accuracy 1.0\n",
      "make_folds LogisticRegression() accuracy 1.0\n",
      "nlp_cleantext LogisticRegression() accuracy 1.0\n",
      "nlp_embedding LogisticRegression() accuracy 1.0\n",
      "nlp_encoder LogisticRegression() accuracy 1.0\n",
      "outliers LogisticRegression() accuracy 1.0\n",
      "pd_df LogisticRegression() accuracy 1.0\n",
      "ms LogisticRegression() accuracy 1.0\n",
      "models trained...\n"
     ]
    }
   ],
   "source": [
    "'''\n",
    "\n",
    "Simplest way to prepare interpreter\n",
    "\n",
    "'''\n",
    "# group together all currently available modules\n",
    "\n",
    "from mllibs.interface import interface\n",
    "\n",
    "session = interface()"
   ]
  },
  {
   "cell_type": "markdown",
   "id": "8c2a89aa",
   "metadata": {
    "papermill": {
     "duration": 0.025438,
     "end_time": "2023-05-31T14:45:27.916168",
     "exception": false,
     "start_time": "2023-05-31T14:45:27.890730",
     "status": "completed"
    },
    "tags": []
   },
   "source": [
    "<div style=\"color:white;border-radius:8px;background-color:#323232;font-size:100%\">\n",
    "<p style=\"padding: 10px;color:white;\"><b><span style='color:#B6DA32; font-weight:bold'> 2.3 | CHECK AVAILABLE TASKS\n",
    "</span></b></p>\n",
    "</div>\n",
    "\n",
    "- If we are unsure about how each task can be activated, or what the input format should be, we can utilise <code>task_info</code>\n",
    "- The dataframe will contain samples from the corpus, the input format required, and a description of the task, and we can easily select the relevant module that we want to use & get the relevant information about it"
   ]
  },
  {
   "cell_type": "code",
   "execution_count": 4,
   "id": "5d8c88d7",
   "metadata": {
    "execution": {
     "iopub.execute_input": "2023-05-31T14:45:27.970732Z",
     "iopub.status.busy": "2023-05-31T14:45:27.969965Z",
     "iopub.status.idle": "2023-05-31T14:45:28.000027Z",
     "shell.execute_reply": "2023-05-31T14:45:27.998882Z"
    },
    "papermill": {
     "duration": 0.060394,
     "end_time": "2023-05-31T14:45:28.002639",
     "exception": false,
     "start_time": "2023-05-31T14:45:27.942245",
     "status": "completed"
    },
    "tags": []
   },
   "outputs": [
    {
     "data": {
      "text/html": [
       "<div>\n",
       "<style scoped>\n",
       "    .dataframe tbody tr th:only-of-type {\n",
       "        vertical-align: middle;\n",
       "    }\n",
       "\n",
       "    .dataframe tbody tr th {\n",
       "        vertical-align: top;\n",
       "    }\n",
       "\n",
       "    .dataframe thead th {\n",
       "        text-align: right;\n",
       "    }\n",
       "</style>\n",
       "<table border=\"1\" class=\"dataframe\">\n",
       "  <thead>\n",
       "    <tr style=\"text-align: right;\">\n",
       "      <th></th>\n",
       "      <th>module</th>\n",
       "      <th>sample</th>\n",
       "      <th>topic</th>\n",
       "      <th>input_format</th>\n",
       "      <th>description</th>\n",
       "    </tr>\n",
       "  </thead>\n",
       "  <tbody>\n",
       "    <tr>\n",
       "      <th>clean_text</th>\n",
       "      <td>nlp_cleantext</td>\n",
       "      <td>simplify text</td>\n",
       "      <td>natural language processing</td>\n",
       "      <td>pd.Series</td>\n",
       "      <td>general cleaning of input text data, normalise...</td>\n",
       "    </tr>\n",
       "    <tr>\n",
       "      <th>lemma_text</th>\n",
       "      <td>nlp_cleantext</td>\n",
       "      <td>lemmatise text</td>\n",
       "      <td>natural language processing</td>\n",
       "      <td>pd.Series</td>\n",
       "      <td>lemmatisation of input text data</td>\n",
       "    </tr>\n",
       "    <tr>\n",
       "      <th>norm_text</th>\n",
       "      <td>nlp_cleantext</td>\n",
       "      <td>lower text register</td>\n",
       "      <td>natural language processing</td>\n",
       "      <td>pd.Series</td>\n",
       "      <td>lower the register of text data</td>\n",
       "    </tr>\n",
       "    <tr>\n",
       "      <th>convert_emoji</th>\n",
       "      <td>nlp_cleantext</td>\n",
       "      <td>translate emojiemoji translate</td>\n",
       "      <td>natural language processing</td>\n",
       "      <td>pd.Series</td>\n",
       "      <td>transalte emoji icons in text data to interpre...</td>\n",
       "    </tr>\n",
       "    <tr>\n",
       "      <th>remove_emoji</th>\n",
       "      <td>nlp_cleantext</td>\n",
       "      <td>get rid of emoji</td>\n",
       "      <td>natural language processing</td>\n",
       "      <td>pd.Series</td>\n",
       "      <td>remove emoji icons in text data</td>\n",
       "    </tr>\n",
       "    <tr>\n",
       "      <th>remove_special_char</th>\n",
       "      <td>nlp_cleantext</td>\n",
       "      <td>get rid of punctuation</td>\n",
       "      <td>natural language processing</td>\n",
       "      <td>pd.Series</td>\n",
       "      <td>remove special characters such as punctuation,...</td>\n",
       "    </tr>\n",
       "    <tr>\n",
       "      <th>remove_http</th>\n",
       "      <td>nlp_cleantext</td>\n",
       "      <td>remove website links</td>\n",
       "      <td>natural language processing</td>\n",
       "      <td>pd.Series</td>\n",
       "      <td>remove website links related to http and www f...</td>\n",
       "    </tr>\n",
       "    <tr>\n",
       "      <th>remove_numbers</th>\n",
       "      <td>nlp_cleantext</td>\n",
       "      <td>remove numbers</td>\n",
       "      <td>natural language processing</td>\n",
       "      <td>pd.Series</td>\n",
       "      <td>remove numerical values from text</td>\n",
       "    </tr>\n",
       "    <tr>\n",
       "      <th>remove_whitespace</th>\n",
       "      <td>nlp_cleantext</td>\n",
       "      <td>clean voids</td>\n",
       "      <td>natural language processing</td>\n",
       "      <td>pd.Series</td>\n",
       "      <td>remove white space (blanks) from text data</td>\n",
       "    </tr>\n",
       "    <tr>\n",
       "      <th>stemmer</th>\n",
       "      <td>nlp_cleantext</td>\n",
       "      <td>text stemming</td>\n",
       "      <td>natural language processing</td>\n",
       "      <td>pd.Series</td>\n",
       "      <td>modify the text data to its most basic/stem form</td>\n",
       "    </tr>\n",
       "    <tr>\n",
       "      <th>remove_handle</th>\n",
       "      <td>nlp_cleantext</td>\n",
       "      <td>remove twitter</td>\n",
       "      <td>natural language processing</td>\n",
       "      <td>pd.Series</td>\n",
       "      <td>remove twitter account handles from text data</td>\n",
       "    </tr>\n",
       "  </tbody>\n",
       "</table>\n",
       "</div>"
      ],
      "text/plain": [
       "                            module                          sample  \\\n",
       "clean_text           nlp_cleantext                   simplify text   \n",
       "lemma_text           nlp_cleantext                  lemmatise text   \n",
       "norm_text            nlp_cleantext             lower text register   \n",
       "convert_emoji        nlp_cleantext  translate emojiemoji translate   \n",
       "remove_emoji         nlp_cleantext                get rid of emoji   \n",
       "remove_special_char  nlp_cleantext          get rid of punctuation   \n",
       "remove_http          nlp_cleantext            remove website links   \n",
       "remove_numbers       nlp_cleantext                  remove numbers   \n",
       "remove_whitespace    nlp_cleantext                     clean voids   \n",
       "stemmer              nlp_cleantext                   text stemming   \n",
       "remove_handle        nlp_cleantext                  remove twitter   \n",
       "\n",
       "                                           topic input_format  \\\n",
       "clean_text           natural language processing    pd.Series   \n",
       "lemma_text           natural language processing    pd.Series   \n",
       "norm_text            natural language processing    pd.Series   \n",
       "convert_emoji        natural language processing    pd.Series   \n",
       "remove_emoji         natural language processing    pd.Series   \n",
       "remove_special_char  natural language processing    pd.Series   \n",
       "remove_http          natural language processing    pd.Series   \n",
       "remove_numbers       natural language processing    pd.Series   \n",
       "remove_whitespace    natural language processing    pd.Series   \n",
       "stemmer              natural language processing    pd.Series   \n",
       "remove_handle        natural language processing    pd.Series   \n",
       "\n",
       "                                                           description  \n",
       "clean_text           general cleaning of input text data, normalise...  \n",
       "lemma_text                            lemmatisation of input text data  \n",
       "norm_text                              lower the register of text data  \n",
       "convert_emoji        transalte emoji icons in text data to interpre...  \n",
       "remove_emoji                           remove emoji icons in text data  \n",
       "remove_special_char  remove special characters such as punctuation,...  \n",
       "remove_http          remove website links related to http and www f...  \n",
       "remove_numbers                       remove numerical values from text  \n",
       "remove_whitespace           remove white space (blanks) from text data  \n",
       "stemmer               modify the text data to its most basic/stem form  \n",
       "remove_handle            remove twitter account handles from text data  "
      ]
     },
     "execution_count": 4,
     "metadata": {},
     "output_type": "execute_result"
    }
   ],
   "source": [
    "# simple one liner allows us to check contents of the module well use\n",
    "dict(tuple(session.task_info.groupby(by='module')))['nlp_cleantext']"
   ]
  },
  {
   "cell_type": "markdown",
   "id": "8f53d277",
   "metadata": {
    "papermill": {
     "duration": 0.012512,
     "end_time": "2023-05-31T14:45:28.028228",
     "exception": false,
     "start_time": "2023-05-31T14:45:28.015716",
     "status": "completed"
    },
    "tags": []
   },
   "source": [
    "<div style=\"color:white;border-radius:8px;background-color:#323232;font-size:100%\">\n",
    "<p style=\"padding: 10px;color:white;\"><b><span style='color:#B6DA32; font-weight:bold'> 2.2 | LOAD DATA\n",
    "</span></b></p>\n",
    "</div>\n",
    "\n",
    "- As we see above, the input requires a **column of a dataframe**, ie. pandas series.\n",
    "- If we need to access the stored data, we can do so by using `session.data['name']['data']`"
   ]
  },
  {
   "cell_type": "code",
   "execution_count": 5,
   "id": "b52d235a",
   "metadata": {
    "execution": {
     "iopub.execute_input": "2023-05-31T14:45:28.056208Z",
     "iopub.status.busy": "2023-05-31T14:45:28.055778Z",
     "iopub.status.idle": "2023-05-31T14:45:28.094419Z",
     "shell.execute_reply": "2023-05-31T14:45:28.093121Z"
    },
    "papermill": {
     "duration": 0.055948,
     "end_time": "2023-05-31T14:45:28.097308",
     "exception": false,
     "start_time": "2023-05-31T14:45:28.041360",
     "status": "completed"
    },
    "tags": []
   },
   "outputs": [],
   "source": [
    "import pandas as pd\n",
    "reviews = pd.read_csv('/kaggle/input/british-airways-virtual-experience-programme/customer_reviews.csv')['reviews'][0:5]\n",
    "session.store(reviews,'reviews')"
   ]
  },
  {
   "cell_type": "code",
   "execution_count": 6,
   "id": "2c3e4fa0",
   "metadata": {
    "execution": {
     "iopub.execute_input": "2023-05-31T14:45:28.125982Z",
     "iopub.status.busy": "2023-05-31T14:45:28.124921Z",
     "iopub.status.idle": "2023-05-31T14:45:28.132465Z",
     "shell.execute_reply": "2023-05-31T14:45:28.131455Z"
    },
    "papermill": {
     "duration": 0.024413,
     "end_time": "2023-05-31T14:45:28.134869",
     "exception": false,
     "start_time": "2023-05-31T14:45:28.110456",
     "status": "completed"
    },
    "tags": []
   },
   "outputs": [
    {
     "data": {
      "text/plain": [
       "pandas.core.series.Series"
      ]
     },
     "execution_count": 6,
     "metadata": {},
     "output_type": "execute_result"
    }
   ],
   "source": [
    "type(session.data['reviews']['data'])"
   ]
  },
  {
   "cell_type": "markdown",
   "id": "48a296a7",
   "metadata": {
    "papermill": {
     "duration": 0.012653,
     "end_time": "2023-05-31T14:45:28.160639",
     "exception": false,
     "start_time": "2023-05-31T14:45:28.147986",
     "status": "completed"
    },
    "tags": []
   },
   "source": [
    "## <b><span style='color:#B6DA32'>3 | TEXT NORMALISATION</span></b>\n",
    "<div style=\"color:white;border-radius:8px;background-color:#323232;font-size:100%\">\n",
    "<p style=\"padding: 10px;color:white;\"><b><span style='color:#B6DA32; font-weight:bold'> 3.1 | LEMMATISATION\n",
    "</span></b></p>\n",
    "</div>\n",
    "\n",
    "- Lemmatisation is the process of grouping together the different inflected forms of a word so they can be analysed as a single item, identified by the word's lemma\n",
    "- It involves reducing words to their base or root form, which is known as the lemma\n",
    "- Lemmatisation can help to identify the meaning of a word in context and reduce ambiguity in text analysis"
   ]
  },
  {
   "cell_type": "code",
   "execution_count": 7,
   "id": "a79ee4ba",
   "metadata": {
    "execution": {
     "iopub.execute_input": "2023-05-31T14:45:28.189937Z",
     "iopub.status.busy": "2023-05-31T14:45:28.189158Z",
     "iopub.status.idle": "2023-05-31T14:45:28.196283Z",
     "shell.execute_reply": "2023-05-31T14:45:28.195240Z"
    },
    "papermill": {
     "duration": 0.024008,
     "end_time": "2023-05-31T14:45:28.198651",
     "exception": false,
     "start_time": "2023-05-31T14:45:28.174643",
     "status": "completed"
    },
    "tags": []
   },
   "outputs": [
    {
     "data": {
      "text/plain": [
       "'✅ Trip Verified |  The ground staff were not helpful. Felt like all they wanted to do was rush us to check in and then all passengers needed up waiting in a holding area for a bus anyway. Travelling with a child with a disability was a nightmare with British Airways. Logged a complaint and it took almost four weeks to answer. Lost some of our luggage. It was not a good experience.'"
      ]
     },
     "execution_count": 7,
     "metadata": {},
     "output_type": "execute_result"
    }
   ],
   "source": [
    "# Lets load one of the documents\n",
    "session.data['reviews']['data'][0]"
   ]
  },
  {
   "cell_type": "code",
   "execution_count": 8,
   "id": "ff4caf52",
   "metadata": {
    "execution": {
     "iopub.execute_input": "2023-05-31T14:45:28.227260Z",
     "iopub.status.busy": "2023-05-31T14:45:28.226434Z",
     "iopub.status.idle": "2023-05-31T14:45:29.870804Z",
     "shell.execute_reply": "2023-05-31T14:45:29.869406Z"
    },
    "papermill": {
     "duration": 1.662263,
     "end_time": "2023-05-31T14:45:29.874072",
     "exception": false,
     "start_time": "2023-05-31T14:45:28.211809",
     "status": "completed"
    },
    "tags": []
   },
   "outputs": [
    {
     "name": "stdout",
     "output_type": "stream",
     "text": [
      "using module: nlp_cleantext\n",
      "Executing Module Task: lemma_text\n"
     ]
    },
    {
     "data": {
      "text/plain": [
       "'✅ Trip Verified |   the ground staff be not helpful . feel like all they want to do be rush we to check in and then all passenger need up wait in a hold area for a bus anyway . travel with a child with a disability be a nightmare with British Airways . log a complaint and it take almost four week to answer . lose some of our luggage . it be not a good experience .'"
      ]
     },
     "execution_count": 8,
     "metadata": {},
     "output_type": "execute_result"
    }
   ],
   "source": [
    "# lemmatise the documents & load the first document\n",
    "session.exec('lemmatise text using reviews')\n",
    "session.glr()[0]"
   ]
  },
  {
   "cell_type": "markdown",
   "id": "2fabdb6b",
   "metadata": {
    "papermill": {
     "duration": 0.013303,
     "end_time": "2023-05-31T14:45:29.902788",
     "exception": false,
     "start_time": "2023-05-31T14:45:29.889485",
     "status": "completed"
    },
    "tags": []
   },
   "source": [
    "<div style=\"color:white;border-radius:8px;background-color:#323232;font-size:100%\">\n",
    "<p style=\"padding: 10px;color:white;\"><b><span style='color:#B6DA32; font-weight:bold'> 3.2 | STEMMING\n",
    "</span></b></p>\n",
    "</div>\n",
    "\n",
    "- Stemming is the process of reducing a word to its base or root form by removing any affixes, such as prefixes or suffixes\n",
    "- This is done by algorithmically cutting off the ends of words to produce a common stem or root\n",
    "- Stemming is used in natural language processing (NLP) to improve accuracy and efficiency in tasks such as information retrieval, text classification, and sentiment analysis\n",
    "- However, stemming can sometimes result in incorrect word forms and may not capture the full meaning of a word in context"
   ]
  },
  {
   "cell_type": "code",
   "execution_count": 9,
   "id": "51ddefc0",
   "metadata": {
    "execution": {
     "iopub.execute_input": "2023-05-31T14:45:29.932378Z",
     "iopub.status.busy": "2023-05-31T14:45:29.931721Z",
     "iopub.status.idle": "2023-05-31T14:45:29.939421Z",
     "shell.execute_reply": "2023-05-31T14:45:29.938273Z"
    },
    "papermill": {
     "duration": 0.02541,
     "end_time": "2023-05-31T14:45:29.941702",
     "exception": false,
     "start_time": "2023-05-31T14:45:29.916292",
     "status": "completed"
    },
    "tags": []
   },
   "outputs": [
    {
     "data": {
      "text/plain": [
       "'✅ Trip Verified |  The ground staff were not helpful. Felt like all they wanted to do was rush us to check in and then all passengers needed up waiting in a holding area for a bus anyway. Travelling with a child with a disability was a nightmare with British Airways. Logged a complaint and it took almost four weeks to answer. Lost some of our luggage. It was not a good experience.'"
      ]
     },
     "execution_count": 9,
     "metadata": {},
     "output_type": "execute_result"
    }
   ],
   "source": [
    "# Lets load one of the documents\n",
    "session.data['reviews']['data'][0]"
   ]
  },
  {
   "cell_type": "code",
   "execution_count": 10,
   "id": "23d74d3d",
   "metadata": {
    "execution": {
     "iopub.execute_input": "2023-05-31T14:45:29.971787Z",
     "iopub.status.busy": "2023-05-31T14:45:29.971372Z",
     "iopub.status.idle": "2023-05-31T14:45:30.028817Z",
     "shell.execute_reply": "2023-05-31T14:45:30.027703Z"
    },
    "papermill": {
     "duration": 0.07537,
     "end_time": "2023-05-31T14:45:30.031511",
     "exception": false,
     "start_time": "2023-05-31T14:45:29.956141",
     "status": "completed"
    },
    "tags": []
   },
   "outputs": [
    {
     "name": "stdout",
     "output_type": "stream",
     "text": [
      "using module: nlp_cleantext\n",
      "Executing Module Task: stemmer\n"
     ]
    },
    {
     "data": {
      "text/plain": [
       "'✅ trip verifi | the ground staff were not help . felt like all they want to do was rush us to check in and then all passeng need up wait in a hold area for a bus anyway . travel with a child with a disabl was a nightmar with british airway . log a complaint and it took almost four week to answer . lost some of our luggag . it was not a good experi .'"
      ]
     },
     "execution_count": 10,
     "metadata": {},
     "output_type": "execute_result"
    }
   ],
   "source": [
    "session.exec('create stemmer using reviews')\n",
    "session.glr()[0]"
   ]
  },
  {
   "cell_type": "markdown",
   "id": "a9f92bd0",
   "metadata": {
    "papermill": {
     "duration": 0.013847,
     "end_time": "2023-05-31T14:45:30.060152",
     "exception": false,
     "start_time": "2023-05-31T14:45:30.046305",
     "status": "completed"
    },
    "tags": []
   },
   "source": [
    "<div style=\"color:white;border-radius:8px;background-color:#323232;font-size:100%\">\n",
    "<p style=\"padding: 10px;color:white;\"><b><span style='color:#B6DA32; font-weight:bold'> 3.3 | REMOVE PUNCTUATION\n",
    "</span></b></p>\n",
    "</div>\n",
    "\n",
    "If we need to remove all punctuation characters in the document"
   ]
  },
  {
   "cell_type": "code",
   "execution_count": 11,
   "id": "b4de4e6b",
   "metadata": {
    "execution": {
     "iopub.execute_input": "2023-05-31T14:45:30.090591Z",
     "iopub.status.busy": "2023-05-31T14:45:30.090181Z",
     "iopub.status.idle": "2023-05-31T14:45:30.114382Z",
     "shell.execute_reply": "2023-05-31T14:45:30.113202Z"
    },
    "papermill": {
     "duration": 0.042072,
     "end_time": "2023-05-31T14:45:30.116752",
     "exception": false,
     "start_time": "2023-05-31T14:45:30.074680",
     "status": "completed"
    },
    "tags": []
   },
   "outputs": [
    {
     "name": "stdout",
     "output_type": "stream",
     "text": [
      "using module: nlp_cleantext\n",
      "Executing Module Task: remove_special_char\n"
     ]
    },
    {
     "data": {
      "text/plain": [
       "'✅ Trip Verified   The ground staff were not helpful Felt like all they wanted to do was rush us to check in and then all passengers needed up waiting in a holding area for a bus anyway Travelling with a child with a disability was a nightmare with British Airways Logged a complaint and it took almost four weeks to answer Lost some of our luggage It was not a good experience'"
      ]
     },
     "execution_count": 11,
     "metadata": {},
     "output_type": "execute_result"
    }
   ],
   "source": [
    "session.exec('remove special characters in reviews')\n",
    "session.glr()[0]"
   ]
  },
  {
   "cell_type": "markdown",
   "id": "413cb314",
   "metadata": {
    "papermill": {
     "duration": 0.013683,
     "end_time": "2023-05-31T14:45:30.144583",
     "exception": false,
     "start_time": "2023-05-31T14:45:30.130900",
     "status": "completed"
    },
    "tags": []
   },
   "source": [
    "<div style=\"color:white;border-radius:8px;background-color:#323232;font-size:100%\">\n",
    "<p style=\"padding: 10px;color:white;\"><b><span style='color:#B6DA32; font-weight:bold'> 3.4 | LOWER THE REGISTER\n",
    "</span></b></p>\n",
    "</div>\n",
    "\n",
    "Normalisation or lowering the register removes the relation of capital and non capital letter words, ie. Apple and apple would have the same token"
   ]
  },
  {
   "cell_type": "code",
   "execution_count": 12,
   "id": "bd32c300",
   "metadata": {
    "execution": {
     "iopub.execute_input": "2023-05-31T14:45:30.174733Z",
     "iopub.status.busy": "2023-05-31T14:45:30.174305Z",
     "iopub.status.idle": "2023-05-31T14:45:30.207851Z",
     "shell.execute_reply": "2023-05-31T14:45:30.206735Z"
    },
    "papermill": {
     "duration": 0.051585,
     "end_time": "2023-05-31T14:45:30.210412",
     "exception": false,
     "start_time": "2023-05-31T14:45:30.158827",
     "status": "completed"
    },
    "tags": []
   },
   "outputs": [
    {
     "name": "stdout",
     "output_type": "stream",
     "text": [
      "using module: nlp_cleantext\n",
      "Executing Module Task: norm_text\n"
     ]
    },
    {
     "data": {
      "text/plain": [
       "0    ✅ trip verified | the ground staff were not he...\n",
       "1    ✅ trip verified | second time ba premium econo...\n",
       "2    not verified | they changed our flights from b...\n",
       "3    not verified | at copenhagen the most chaotic ...\n",
       "4    ✅ trip verified | worst experience of my life ...\n",
       "Name: reviews, dtype: object"
      ]
     },
     "execution_count": 12,
     "metadata": {},
     "output_type": "execute_result"
    }
   ],
   "source": [
    "session.exec('normalise text using reviews')\n",
    "session.glr()"
   ]
  },
  {
   "cell_type": "markdown",
   "id": "2c68c8ba",
   "metadata": {
    "papermill": {
     "duration": 0.014134,
     "end_time": "2023-05-31T14:45:30.239242",
     "exception": false,
     "start_time": "2023-05-31T14:45:30.225108",
     "status": "completed"
    },
    "tags": []
   },
   "source": [
    "<div style=\"color:white;border-radius:8px;background-color:#323232;font-size:100%\">\n",
    "<p style=\"padding: 10px;color:white;\"><b><span style='color:#B6DA32; font-weight:bold'> 3.5 | REMOVE WEBSITE LINKS\n",
    "</span></b></p>\n",
    "</div>\n",
    "\n",
    "If we don't want to remove `http` and `www` website links from our documents"
   ]
  },
  {
   "cell_type": "code",
   "execution_count": 13,
   "id": "161ec1bc",
   "metadata": {
    "execution": {
     "iopub.execute_input": "2023-05-31T14:45:30.269604Z",
     "iopub.status.busy": "2023-05-31T14:45:30.269221Z",
     "iopub.status.idle": "2023-05-31T14:45:30.274801Z",
     "shell.execute_reply": "2023-05-31T14:45:30.273630Z"
    },
    "papermill": {
     "duration": 0.023412,
     "end_time": "2023-05-31T14:45:30.277041",
     "exception": false,
     "start_time": "2023-05-31T14:45:30.253629",
     "status": "completed"
    },
    "tags": []
   },
   "outputs": [],
   "source": [
    "wwwsample = pd.Series(['http://www.kaggle.com data science'])\n",
    "session.store(wwwsample,'wwwsample')"
   ]
  },
  {
   "cell_type": "code",
   "execution_count": 14,
   "id": "b623ded5",
   "metadata": {
    "execution": {
     "iopub.execute_input": "2023-05-31T14:45:30.307647Z",
     "iopub.status.busy": "2023-05-31T14:45:30.307235Z",
     "iopub.status.idle": "2023-05-31T14:45:30.332741Z",
     "shell.execute_reply": "2023-05-31T14:45:30.331574Z"
    },
    "papermill": {
     "duration": 0.043591,
     "end_time": "2023-05-31T14:45:30.334984",
     "exception": false,
     "start_time": "2023-05-31T14:45:30.291393",
     "status": "completed"
    },
    "tags": []
   },
   "outputs": [
    {
     "name": "stdout",
     "output_type": "stream",
     "text": [
      "using module: nlp_cleantext\n",
      "Executing Module Task: remove_http\n"
     ]
    },
    {
     "data": {
      "text/plain": [
       "'data science'"
      ]
     },
     "execution_count": 14,
     "metadata": {},
     "output_type": "execute_result"
    }
   ],
   "source": [
    "session.exec('remove website links in wwwsample')\n",
    "session.glr()[0]"
   ]
  },
  {
   "cell_type": "markdown",
   "id": "b2dfdfe9",
   "metadata": {
    "papermill": {
     "duration": 0.014479,
     "end_time": "2023-05-31T14:45:30.364472",
     "exception": false,
     "start_time": "2023-05-31T14:45:30.349993",
     "status": "completed"
    },
    "tags": []
   },
   "source": [
    "<div style=\"color:white;border-radius:8px;background-color:#323232;font-size:100%\">\n",
    "<p style=\"padding: 10px;color:white;\"><b><span style='color:#B6DA32; font-weight:bold'> 3.6 | REMOVE NUMERIC VALUES\n",
    "</span></b></p>\n",
    "</div>\n",
    "\n",
    "We can remove numerical data from our documents"
   ]
  },
  {
   "cell_type": "code",
   "execution_count": 15,
   "id": "eade5ffb",
   "metadata": {
    "execution": {
     "iopub.execute_input": "2023-05-31T14:45:30.396739Z",
     "iopub.status.busy": "2023-05-31T14:45:30.396046Z",
     "iopub.status.idle": "2023-05-31T14:45:30.402560Z",
     "shell.execute_reply": "2023-05-31T14:45:30.401466Z"
    },
    "papermill": {
     "duration": 0.025676,
     "end_time": "2023-05-31T14:45:30.404792",
     "exception": false,
     "start_time": "2023-05-31T14:45:30.379116",
     "status": "completed"
    },
    "tags": []
   },
   "outputs": [
    {
     "data": {
      "text/plain": [
       "'Not Verified |  They changed our Flights from Brussels to London Heathrow to LAX on 4/16/2023. We paid extra to choose our seats. Since they cancelled they never honored the seat that we bought, they seated us in totally different seats. I asked the check in employee, she was very rude and told us that we have to understand that was a different flight. From London to LAX was worse, nobody in the airport help us. Employees from BA told us that we have to return next day for our flight we can rent a hotel or go terminal 3 and sleep there. Finally one employee help us and gives a voucher for hotel. It was a nightmare this airline. We missed one day work and BA didn’t return the money that we paid for our previous chosen seats.'"
      ]
     },
     "execution_count": 15,
     "metadata": {},
     "output_type": "execute_result"
    }
   ],
   "source": [
    "session.data['reviews']['data'][2]"
   ]
  },
  {
   "cell_type": "code",
   "execution_count": 16,
   "id": "1cd07fd9",
   "metadata": {
    "execution": {
     "iopub.execute_input": "2023-05-31T14:45:30.436916Z",
     "iopub.status.busy": "2023-05-31T14:45:30.436083Z",
     "iopub.status.idle": "2023-05-31T14:45:30.459001Z",
     "shell.execute_reply": "2023-05-31T14:45:30.457907Z"
    },
    "papermill": {
     "duration": 0.042046,
     "end_time": "2023-05-31T14:45:30.461647",
     "exception": false,
     "start_time": "2023-05-31T14:45:30.419601",
     "status": "completed"
    },
    "tags": []
   },
   "outputs": [
    {
     "name": "stdout",
     "output_type": "stream",
     "text": [
      "using module: nlp_cleantext\n",
      "Executing Module Task: remove_numbers\n"
     ]
    },
    {
     "data": {
      "text/plain": [
       "'Not Verified |  They changed our Flights from Brussels to London Heathrow to LAX on //. We paid extra to choose our seats. Since they cancelled they never honored the seat that we bought, they seated us in totally different seats. I asked the check in employee, she was very rude and told us that we have to understand that was a different flight. From London to LAX was worse, nobody in the airport help us. Employees from BA told us that we have to return next day for our flight we can rent a hotel or go terminal  and sleep there. Finally one employee help us and gives a voucher for hotel. It was a nightmare this airline. We missed one day work and BA didn’t return the money that we paid for our previous chosen seats.'"
      ]
     },
     "execution_count": 16,
     "metadata": {},
     "output_type": "execute_result"
    }
   ],
   "source": [
    "session.exec('remove numbers from reviews')\n",
    "session.glr()[2]"
   ]
  },
  {
   "cell_type": "markdown",
   "id": "0b341c83",
   "metadata": {
    "papermill": {
     "duration": 0.014673,
     "end_time": "2023-05-31T14:45:30.491842",
     "exception": false,
     "start_time": "2023-05-31T14:45:30.477169",
     "status": "completed"
    },
    "tags": []
   },
   "source": [
    "<div style=\"color:white;border-radius:8px;background-color:#323232;font-size:100%\">\n",
    "<p style=\"padding: 10px;color:white;\"><b><span style='color:#B6DA32; font-weight:bold'> 3.7 | REMOVE WHITESPACE\n",
    "</span></b></p>\n",
    "</div>\n",
    "\n",
    "If we need to remove spaces which aren't relevant"
   ]
  },
  {
   "cell_type": "code",
   "execution_count": 17,
   "id": "94cffd5c",
   "metadata": {
    "execution": {
     "iopub.execute_input": "2023-05-31T14:45:30.523580Z",
     "iopub.status.busy": "2023-05-31T14:45:30.523163Z",
     "iopub.status.idle": "2023-05-31T14:45:30.528505Z",
     "shell.execute_reply": "2023-05-31T14:45:30.527659Z"
    },
    "papermill": {
     "duration": 0.023612,
     "end_time": "2023-05-31T14:45:30.530610",
     "exception": false,
     "start_time": "2023-05-31T14:45:30.506998",
     "status": "completed"
    },
    "tags": []
   },
   "outputs": [],
   "source": [
    "wssample = pd.Series(['   They changed our Flights from Brussels to London Heathrow to LAX on 4/16/2023   '])\n",
    "session.store(wssample,'wssample')"
   ]
  },
  {
   "cell_type": "code",
   "execution_count": 18,
   "id": "2e2074b0",
   "metadata": {
    "execution": {
     "iopub.execute_input": "2023-05-31T14:45:30.562823Z",
     "iopub.status.busy": "2023-05-31T14:45:30.561731Z",
     "iopub.status.idle": "2023-05-31T14:45:30.585573Z",
     "shell.execute_reply": "2023-05-31T14:45:30.584664Z"
    },
    "papermill": {
     "duration": 0.042224,
     "end_time": "2023-05-31T14:45:30.587810",
     "exception": false,
     "start_time": "2023-05-31T14:45:30.545586",
     "status": "completed"
    },
    "tags": []
   },
   "outputs": [
    {
     "name": "stdout",
     "output_type": "stream",
     "text": [
      "using module: nlp_cleantext\n",
      "Executing Module Task: remove_whitespace\n"
     ]
    },
    {
     "data": {
      "text/plain": [
       "'They changed our Flights from Brussels to London Heathrow to LAX on 4/16/2023'"
      ]
     },
     "execution_count": 18,
     "metadata": {},
     "output_type": "execute_result"
    }
   ],
   "source": [
    "session.exec('remove whitespace from wssample')\n",
    "session.glr().iloc[0]"
   ]
  },
  {
   "cell_type": "markdown",
   "id": "1a673714",
   "metadata": {
    "papermill": {
     "duration": 0.014812,
     "end_time": "2023-05-31T14:45:30.617914",
     "exception": false,
     "start_time": "2023-05-31T14:45:30.603102",
     "status": "completed"
    },
    "tags": []
   },
   "source": [
    "<div style=\"color:white;border-radius:8px;background-color:#323232;font-size:100%\">\n",
    "<p style=\"padding: 10px;color:white;\"><b><span style='color:#B6DA32; font-weight:bold'> 3.8 | REMOVE TWEET USER\n",
    "</span></b></p>\n",
    "</div>\n",
    "\n",
    "If we are processing twitter data, and don't want to include the twitter handle"
   ]
  },
  {
   "cell_type": "code",
   "execution_count": 19,
   "id": "3c1bc180",
   "metadata": {
    "execution": {
     "iopub.execute_input": "2023-05-31T14:45:30.650605Z",
     "iopub.status.busy": "2023-05-31T14:45:30.649670Z",
     "iopub.status.idle": "2023-05-31T14:45:30.654735Z",
     "shell.execute_reply": "2023-05-31T14:45:30.653968Z"
    },
    "papermill": {
     "duration": 0.023937,
     "end_time": "2023-05-31T14:45:30.657075",
     "exception": false,
     "start_time": "2023-05-31T14:45:30.633138",
     "status": "completed"
    },
    "tags": []
   },
   "outputs": [],
   "source": [
    "# we dont have an example in the existing data\n",
    "twitter_sample = pd.Series(['Hello @TwitterSupport'])\n",
    "session.store(twitter_sample,'twitter_sample')"
   ]
  },
  {
   "cell_type": "code",
   "execution_count": 20,
   "id": "c4e12087",
   "metadata": {
    "execution": {
     "iopub.execute_input": "2023-05-31T14:45:30.690026Z",
     "iopub.status.busy": "2023-05-31T14:45:30.689022Z",
     "iopub.status.idle": "2023-05-31T14:45:30.715130Z",
     "shell.execute_reply": "2023-05-31T14:45:30.713649Z"
    },
    "papermill": {
     "duration": 0.044917,
     "end_time": "2023-05-31T14:45:30.717365",
     "exception": false,
     "start_time": "2023-05-31T14:45:30.672448",
     "status": "completed"
    },
    "tags": []
   },
   "outputs": [
    {
     "name": "stdout",
     "output_type": "stream",
     "text": [
      "using module: nlp_cleantext\n",
      "Executing Module Task: remove_handle\n"
     ]
    },
    {
     "data": {
      "text/plain": [
       "'Hello '"
      ]
     },
     "execution_count": 20,
     "metadata": {},
     "output_type": "execute_result"
    }
   ],
   "source": [
    "session.exec('remove twitter mention from twitter_sample')\n",
    "session.glr()[0]"
   ]
  },
  {
   "cell_type": "markdown",
   "id": "e7b65028",
   "metadata": {
    "papermill": {
     "duration": 0.01497,
     "end_time": "2023-05-31T14:45:30.747711",
     "exception": false,
     "start_time": "2023-05-31T14:45:30.732741",
     "status": "completed"
    },
    "tags": []
   },
   "source": [
    "<div style=\"color:white;border-radius:8px;background-color:#323232;font-size:100%\">\n",
    "<p style=\"padding: 10px;color:white;\"><b><span style='color:#B6DA32; font-weight:bold'> 3.9 | EMOJIS\n",
    "</span></b></p>\n",
    "</div>\n",
    "\n",
    "We can deal with emojis in two ways; convert them to textual meaning or remove them entirely from the document"
   ]
  },
  {
   "cell_type": "code",
   "execution_count": 21,
   "id": "f3151cbc",
   "metadata": {
    "execution": {
     "iopub.execute_input": "2023-05-31T14:45:30.780210Z",
     "iopub.status.busy": "2023-05-31T14:45:30.779792Z",
     "iopub.status.idle": "2023-05-31T14:45:30.786721Z",
     "shell.execute_reply": "2023-05-31T14:45:30.785507Z"
    },
    "papermill": {
     "duration": 0.026367,
     "end_time": "2023-05-31T14:45:30.789343",
     "exception": false,
     "start_time": "2023-05-31T14:45:30.762976",
     "status": "completed"
    },
    "tags": []
   },
   "outputs": [
    {
     "data": {
      "text/plain": [
       "'✅ Trip Verified |  The ground staff were not helpful. Felt like all they wanted to do was rush us to check in and then all passengers needed up waiting in a holding area for a bus anyway. Travelling with a child with a disability was a nightmare with British Airways. Logged a complaint and it took almost four weeks to answer. Lost some of our luggage. It was not a good experience.'"
      ]
     },
     "execution_count": 21,
     "metadata": {},
     "output_type": "execute_result"
    }
   ],
   "source": [
    "session.data['reviews']['data'][0]"
   ]
  },
  {
   "cell_type": "code",
   "execution_count": 22,
   "id": "4508cda6",
   "metadata": {
    "execution": {
     "iopub.execute_input": "2023-05-31T14:45:30.822452Z",
     "iopub.status.busy": "2023-05-31T14:45:30.822013Z",
     "iopub.status.idle": "2023-05-31T14:45:30.868678Z",
     "shell.execute_reply": "2023-05-31T14:45:30.867530Z"
    },
    "papermill": {
     "duration": 0.066137,
     "end_time": "2023-05-31T14:45:30.871128",
     "exception": false,
     "start_time": "2023-05-31T14:45:30.804991",
     "status": "completed"
    },
    "tags": []
   },
   "outputs": [
    {
     "name": "stdout",
     "output_type": "stream",
     "text": [
      "using module: nlp_cleantext\n",
      "Executing Module Task: remove_emoji\n"
     ]
    },
    {
     "data": {
      "text/plain": [
       "'Trip Verified | The ground staff were not helpful . Felt like all they wanted to do was rush us to check in and then all passengers needed up waiting in a holding area for a bus anyway . Travelling with a child with a disability was a nightmare with British Airways . Logged a complaint and it took almost four weeks to answer . Lost some of our luggage . It was not a good experience .'"
      ]
     },
     "execution_count": 22,
     "metadata": {},
     "output_type": "execute_result"
    }
   ],
   "source": [
    "session.exec('remove emoji from reviews')\n",
    "session.glr()[0]"
   ]
  },
  {
   "cell_type": "code",
   "execution_count": 23,
   "id": "7ecc1b71",
   "metadata": {
    "execution": {
     "iopub.execute_input": "2023-05-31T14:45:30.906451Z",
     "iopub.status.busy": "2023-05-31T14:45:30.905751Z",
     "iopub.status.idle": "2023-05-31T14:45:30.933591Z",
     "shell.execute_reply": "2023-05-31T14:45:30.932569Z"
    },
    "papermill": {
     "duration": 0.049114,
     "end_time": "2023-05-31T14:45:30.936662",
     "exception": false,
     "start_time": "2023-05-31T14:45:30.887548",
     "status": "completed"
    },
    "tags": []
   },
   "outputs": [
    {
     "name": "stdout",
     "output_type": "stream",
     "text": [
      "using module: nlp_cleantext\n",
      "Executing Module Task: convert_emoji\n"
     ]
    },
    {
     "data": {
      "text/plain": [
       "':check_mark_button: Trip Verified |  The ground staff were not helpful. Felt like all they wanted to do was rush us to check in and then all passengers needed up waiting in a holding area for a bus anyway. Travelling with a child with a disability was a nightmare with British Airways. Logged a complaint and it took almost four weeks to answer. Lost some of our luggage. It was not a good experience.'"
      ]
     },
     "execution_count": 23,
     "metadata": {},
     "output_type": "execute_result"
    }
   ],
   "source": [
    "session.exec('convert emoji in reviews')\n",
    "session.glr()[0]"
   ]
  },
  {
   "cell_type": "markdown",
   "id": "807e5a7e",
   "metadata": {
    "papermill": {
     "duration": 0.016474,
     "end_time": "2023-05-31T14:45:30.969291",
     "exception": false,
     "start_time": "2023-05-31T14:45:30.952817",
     "status": "completed"
    },
    "tags": []
   },
   "source": [
    "<div style=\"color:white;border-radius:8px;background-color:#323232;font-size:100%\">\n",
    "<p style=\"padding: 10px;color:white;\"><b><span style='color:#B6DA32; font-weight:bold'> 3.10 | GENERAL TEXT CLEANING\n",
    "</span></b></p>\n",
    "</div>\n",
    "\n",
    "The general text cleaning function contains multiple steps in data cleaning:\n",
    "- Removes punctuation\n",
    "- Lowers the register of all tokens\n",
    "- Removes stopwords \n",
    "- Lemmatises words"
   ]
  },
  {
   "cell_type": "code",
   "execution_count": 24,
   "id": "a68d5f5e",
   "metadata": {
    "execution": {
     "iopub.execute_input": "2023-05-31T14:45:31.005213Z",
     "iopub.status.busy": "2023-05-31T14:45:31.004749Z",
     "iopub.status.idle": "2023-05-31T14:45:31.012305Z",
     "shell.execute_reply": "2023-05-31T14:45:31.011100Z"
    },
    "papermill": {
     "duration": 0.028277,
     "end_time": "2023-05-31T14:45:31.014818",
     "exception": false,
     "start_time": "2023-05-31T14:45:30.986541",
     "status": "completed"
    },
    "tags": []
   },
   "outputs": [
    {
     "data": {
      "text/plain": [
       "'✅ Trip Verified |  The ground staff were not helpful. Felt like all they wanted to do was rush us to check in and then all passengers needed up waiting in a holding area for a bus anyway. Travelling with a child with a disability was a nightmare with British Airways. Logged a complaint and it took almost four weeks to answer. Lost some of our luggage. It was not a good experience.'"
      ]
     },
     "execution_count": 24,
     "metadata": {},
     "output_type": "execute_result"
    }
   ],
   "source": [
    "session.data['reviews']['data'][0]"
   ]
  },
  {
   "cell_type": "code",
   "execution_count": 25,
   "id": "a9bf1162",
   "metadata": {
    "execution": {
     "iopub.execute_input": "2023-05-31T14:45:31.049784Z",
     "iopub.status.busy": "2023-05-31T14:45:31.048982Z",
     "iopub.status.idle": "2023-05-31T14:45:33.877169Z",
     "shell.execute_reply": "2023-05-31T14:45:33.876024Z"
    },
    "papermill": {
     "duration": 2.848469,
     "end_time": "2023-05-31T14:45:33.879799",
     "exception": false,
     "start_time": "2023-05-31T14:45:31.031330",
     "status": "completed"
    },
    "tags": []
   },
   "outputs": [
    {
     "name": "stdout",
     "output_type": "stream",
     "text": [
      "using module: nlp_cleantext\n",
      "Executing Module Task: clean_text\n"
     ]
    },
    {
     "data": {
      "text/plain": [
       "'trip verified ground staff helpful felt like wanted rush u check passenger needed waiting holding area bus anyway travelling child disability nightmare british airway logged complaint took almost four week answer lost luggage good experience'"
      ]
     },
     "execution_count": 25,
     "metadata": {},
     "output_type": "execute_result"
    }
   ],
   "source": [
    "session.exec('clean text data using reviews')\n",
    "session.glr()[0]"
   ]
  }
 ],
 "metadata": {
  "kernelspec": {
   "display_name": "Python 3",
   "language": "python",
   "name": "python3"
  },
  "language_info": {
   "codemirror_mode": {
    "name": "ipython",
    "version": 3
   },
   "file_extension": ".py",
   "mimetype": "text/x-python",
   "name": "python",
   "nbconvert_exporter": "python",
   "pygments_lexer": "ipython3",
   "version": "3.10.10"
  },
  "papermill": {
   "default_parameters": {},
   "duration": 55.92905,
   "end_time": "2023-05-31T14:45:36.518225",
   "environment_variables": {},
   "exception": null,
   "input_path": "__notebook__.ipynb",
   "output_path": "__notebook__.ipynb",
   "parameters": {},
   "start_time": "2023-05-31T14:44:40.589175",
   "version": "2.4.0"
  }
 },
 "nbformat": 4,
 "nbformat_minor": 5
}
